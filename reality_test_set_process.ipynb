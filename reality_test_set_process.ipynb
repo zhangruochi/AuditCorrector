{
 "cells": [
  {
   "cell_type": "code",
   "execution_count": 31,
   "metadata": {},
   "outputs": [],
   "source": [
    "import pandas as pd\n",
    "from tqdm import tqdm\n",
    "from preprocess import rm_dups\n",
    "import re\n",
    "import json\n",
    "# from preprocess import rp_regex_pattern\n"
   ]
  },
  {
   "cell_type": "code",
   "execution_count": 32,
   "metadata": {},
   "outputs": [],
   "source": [
    "rm_delimiters = [\"，\", \"。\", \"；\", \"！\", \"、\", \";\", \",\"]\n",
    "rp_delimiters = [\"\\d,\\d\"]\n",
    "\n",
    "rm_regex_pattern = re.compile('|'.join(map(re.escape, rm_delimiters)))\n",
    "rp_regex_pattern = re.compile('|'.join(rp_delimiters))"
   ]
  },
  {
   "cell_type": "code",
   "execution_count": 33,
   "metadata": {},
   "outputs": [],
   "source": [
    "df = pd.read_excel(\n",
    "    \"/Users/admin/Documents/chinasoft/nlp/NLP_SUMMARY_CACHE_202206271753_test.xls\")"
   ]
  },
  {
   "cell_type": "code",
   "execution_count": 34,
   "metadata": {},
   "outputs": [
    {
     "data": {
      "text/plain": [
       "(47, 5)"
      ]
     },
     "execution_count": 34,
     "metadata": {},
     "output_type": "execute_result"
    }
   ],
   "source": [
    "# df.head(10)\n",
    "# df[\"CORRECTED_TEXT\"].describe()\n",
    "df.shape"
   ]
  },
  {
   "cell_type": "code",
   "execution_count": 35,
   "metadata": {},
   "outputs": [],
   "source": [
    "original_txt = df[\"FACT_SUMMARY\"]\n",
    "corrrct_txt = df[\"CORRECTED_TEXT\"]"
   ]
  },
  {
   "cell_type": "code",
   "execution_count": 36,
   "metadata": {},
   "outputs": [
    {
     "name": "stderr",
     "output_type": "stream",
     "text": [
      "100%|██████████| 47/47 [00:00<00:00, 71658.41it/s]\n"
     ]
    }
   ],
   "source": [
    "all_original = []\n",
    "for i,text in tqdm(enumerate(original_txt.tolist()),total=df.shape[0]):\n",
    "    text = rm_dups(text, rp_regex_pattern)\n",
    "    all_original_txt = re.split(rm_regex_pattern, text)\n",
    "    all_original_txt = [_.strip() for _ in all_original_txt if _.strip()]\n",
    "    all_original.append(all_original_txt)\n"
   ]
  },
  {
   "cell_type": "code",
   "execution_count": 37,
   "metadata": {},
   "outputs": [
    {
     "name": "stderr",
     "output_type": "stream",
     "text": [
      "100%|██████████| 47/47 [00:00<00:00, 77306.78it/s]\n"
     ]
    }
   ],
   "source": [
    "all_correct = []\n",
    "for i, text in tqdm(enumerate(corrrct_txt.tolist()), total=df.shape[0]):\n",
    "    text = rm_dups(text, rp_regex_pattern)\n",
    "    all_corrrct_txt = re.split(rm_regex_pattern, text)\n",
    "    all_corrrct_txt = [_.strip() for _ in all_corrrct_txt if _.strip()]\n",
    "    all_correct.append(all_corrrct_txt)\n"
   ]
  },
  {
   "cell_type": "code",
   "execution_count": 38,
   "metadata": {},
   "outputs": [],
   "source": [
    "json_data = []\n",
    "for i, num in enumerate(all_correct):\n",
    "    for j,text in enumerate(num):\n",
    "        wrong_ids = []\n",
    "        for k in range(len(text)):\n",
    "            if text[k] != all_original[i][j][k]:\n",
    "                wrong_ids.append(k)\n",
    "        json_data.append({\n",
    "            \"id\": \"{}-{}-{}\".format(i, j, k),\n",
    "            \"original_text\": all_original[i][j],\n",
    "            \"wrong_ids\": wrong_ids,\n",
    "            \"correct_text\": text,\n",
    "        })\n"
   ]
  },
  {
   "cell_type": "code",
   "execution_count": 30,
   "metadata": {},
   "outputs": [],
   "source": [
    "with open(\"reality_test.json\", \"w\") as f:\n",
    "    json.dump(json_data, f, ensure_ascii=False)"
   ]
  },
  {
   "cell_type": "code",
   "execution_count": null,
   "metadata": {},
   "outputs": [],
   "source": []
  }
 ],
 "metadata": {
  "kernelspec": {
   "display_name": "Python 3.8.13 ('correctText')",
   "language": "python",
   "name": "python3"
  },
  "language_info": {
   "codemirror_mode": {
    "name": "ipython",
    "version": 3
   },
   "file_extension": ".py",
   "mimetype": "text/x-python",
   "name": "python",
   "nbconvert_exporter": "python",
   "pygments_lexer": "ipython3",
   "version": "3.8.13"
  },
  "orig_nbformat": 4,
  "vscode": {
   "interpreter": {
    "hash": "33b37ddf4e0050c76a1c1daadfef54a29913b01cdc3054fcd6a54701b319f2a3"
   }
  }
 },
 "nbformat": 4,
 "nbformat_minor": 2
}
